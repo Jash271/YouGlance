{
 "cells": [
  {
   "cell_type": "markdown",
   "metadata": {
    "colab_type": "text",
    "id": "B4qb5L6WamUg"
   },
   "source": [
    "# Documentation"
   ]
  },
  {
   "cell_type": "markdown",
   "metadata": {
    "colab_type": "text",
    "id": "_KGfEReHZBRj"
   },
   "source": [
    "## **Import the Module**"
   ]
  },
  {
   "cell_type": "code",
   "execution_count": 112,
   "metadata": {
    "colab": {},
    "colab_type": "code",
    "id": "UdslTJ4eZAEw"
   },
   "outputs": [
    {
     "name": "stderr",
     "output_type": "stream",
     "text": [
      "[nltk_data] Downloading package vader_lexicon to\n",
      "[nltk_data]     C:\\Users\\Jash\\AppData\\Roaming\\nltk_data...\n",
      "[nltk_data]   Package vader_lexicon is already up-to-date!\n"
     ]
    }
   ],
   "source": [
    "from YouGlance import spy"
   ]
  },
  {
   "cell_type": "markdown",
   "metadata": {
    "colab_type": "text",
    "id": "qRFJPrSZZoVB"
   },
   "source": [
    "## Create An Instance of the spy object Note:'HGXBsRYGsYw' is the video Id which we are going to anaylze"
   ]
  },
  {
   "cell_type": "code",
   "execution_count": 113,
   "metadata": {
    "colab": {},
    "colab_type": "code",
    "id": "CSxrth3CZcHf"
   },
   "outputs": [],
   "source": [
    "obj=spy('HGXBsRYGsYw')"
   ]
  },
  {
   "cell_type": "markdown",
   "metadata": {
    "colab_type": "text",
    "id": "xweK7Nw2cgRj"
   },
   "source": [
    "## There are a Certain List of Entity Labels that are by default ignored,when Generating the DataFrame.Here we'll grab that List of Entity and then later tweak that List to include and drop Entitiy Labels  according to your Liking"
   ]
  },
  {
   "cell_type": "code",
   "execution_count": 114,
   "metadata": {
    "colab": {
     "base_uri": "https://localhost:8080/",
     "height": 34
    },
    "colab_type": "code",
    "id": "3QSzE8xicfxA",
    "outputId": "006aa469-65c5-4b56-e002-130000b68dba"
   },
   "outputs": [
    {
     "data": {
      "text/plain": [
       "['DATE', 'TIME', 'MONEY', 'QUANTITY', 'ORDINAL', 'CARDINAL', 'LANGUAGE', 'LOC']"
      ]
     },
     "execution_count": 114,
     "metadata": {},
     "output_type": "execute_result"
    }
   ],
   "source": [
    "obj.get_unwanted()"
   ]
  },
  {
   "cell_type": "markdown",
   "metadata": {
    "colab_type": "text",
    "id": "YL4uoq42Z0PH"
   },
   "source": [
    "## Generate DataFrame by calling .generate_df() method which returns the consolidated DataFrame of The Video Transcript"
   ]
  },
  {
   "cell_type": "code",
   "execution_count": 115,
   "metadata": {
    "colab": {
     "base_uri": "https://localhost:8080/",
     "height": 67
    },
    "colab_type": "code",
    "id": "dOCiCaRbZmbC",
    "outputId": "9c3db9ea-d512-447d-e155-921f37db40c4"
   },
   "outputs": [
    {
     "name": "stdout",
     "output_type": "stream",
     "text": [
      "Creating DataFrame.....\n",
      "Cleaning Text....\n",
      "Identifying Entities....\n"
     ]
    }
   ],
   "source": [
    "y=obj.generate_df()"
   ]
  },
  {
   "cell_type": "markdown",
   "metadata": {
    "colab_type": "text",
    "id": "Xcna0wFTaHud"
   },
   "source": [
    "## Having a Look at the DataFrame Returned"
   ]
  },
  {
   "cell_type": "markdown",
   "metadata": {
    "colab_type": "text",
    "id": "SibUTwbha4qp"
   },
   "source": [
    "## Note : The Label Column is the Row wise Identified Entities in cleaned_text column"
   ]
  },
  {
   "cell_type": "code",
   "execution_count": 116,
   "metadata": {
    "colab": {
     "base_uri": "https://localhost:8080/",
     "height": 195
    },
    "colab_type": "code",
    "id": "D3YjWpziZzlG",
    "outputId": "3c154c60-3c5e-4635-f3dd-9e4c2472695f"
   },
   "outputs": [
    {
     "data": {
      "text/html": [
       "<div>\n",
       "<style scoped>\n",
       "    .dataframe tbody tr th:only-of-type {\n",
       "        vertical-align: middle;\n",
       "    }\n",
       "\n",
       "    .dataframe tbody tr th {\n",
       "        vertical-align: top;\n",
       "    }\n",
       "\n",
       "    .dataframe thead th {\n",
       "        text-align: right;\n",
       "    }\n",
       "</style>\n",
       "<table border=\"1\" class=\"dataframe\">\n",
       "  <thead>\n",
       "    <tr style=\"text-align: right;\">\n",
       "      <th></th>\n",
       "      <th>Text</th>\n",
       "      <th>Start</th>\n",
       "      <th>cleaned_text</th>\n",
       "      <th>label</th>\n",
       "    </tr>\n",
       "  </thead>\n",
       "  <tbody>\n",
       "    <tr>\n",
       "      <th>0</th>\n",
       "      <td>hi everyone I'm Carrie Daugherty filling</td>\n",
       "      <td>0.530</td>\n",
       "      <td>hi everyone I'm Carrie Daugherty filling</td>\n",
       "      <td>[Carrie Daugherty]</td>\n",
       "    </tr>\n",
       "    <tr>\n",
       "      <th>1</th>\n",
       "      <td>in for Tim cash and this is the IMDB</td>\n",
       "      <td>3.210</td>\n",
       "      <td>in for Tim cash and this is the IMDB</td>\n",
       "      <td>[Tim, IMDB]</td>\n",
       "    </tr>\n",
       "    <tr>\n",
       "      <th>2</th>\n",
       "      <td>show today's guest is my friend Martin</td>\n",
       "      <td>5.370</td>\n",
       "      <td>show today's guest is my friend Martin</td>\n",
       "      <td>[Martin]</td>\n",
       "    </tr>\n",
       "    <tr>\n",
       "      <th>3</th>\n",
       "      <td>Starr welcome Martin it's weird when you</td>\n",
       "      <td>7.740</td>\n",
       "      <td>Starr welcome Martin it's weird when you</td>\n",
       "      <td>[Starr, Martin]</td>\n",
       "    </tr>\n",
       "    <tr>\n",
       "      <th>4</th>\n",
       "      <td>clap it sounds like multiple people</td>\n",
       "      <td>12.059</td>\n",
       "      <td>clap it sounds like multiple people</td>\n",
       "      <td>[]</td>\n",
       "    </tr>\n",
       "  </tbody>\n",
       "</table>\n",
       "</div>"
      ],
      "text/plain": [
       "                                       Text   Start  \\\n",
       "0  hi everyone I'm Carrie Daugherty filling   0.530   \n",
       "1      in for Tim cash and this is the IMDB   3.210   \n",
       "2    show today's guest is my friend Martin   5.370   \n",
       "3  Starr welcome Martin it's weird when you   7.740   \n",
       "4       clap it sounds like multiple people  12.059   \n",
       "\n",
       "                               cleaned_text               label  \n",
       "0  hi everyone I'm Carrie Daugherty filling  [Carrie Daugherty]  \n",
       "1      in for Tim cash and this is the IMDB         [Tim, IMDB]  \n",
       "2    show today's guest is my friend Martin            [Martin]  \n",
       "3  Starr welcome Martin it's weird when you     [Starr, Martin]  \n",
       "4       clap it sounds like multiple people                  []  "
      ]
     },
     "execution_count": 116,
     "metadata": {},
     "output_type": "execute_result"
    }
   ],
   "source": [
    "y.head()"
   ]
  },
  {
   "cell_type": "markdown",
   "metadata": {
    "colab_type": "text",
    "id": "stfHJ8mqb_aE"
   },
   "source": [
    "## Get a List of All Unique Entities mentioned in the Video"
   ]
  },
  {
   "cell_type": "code",
   "execution_count": 117,
   "metadata": {
    "colab": {
     "base_uri": "https://localhost:8080/",
     "height": 218
    },
    "colab_type": "code",
    "id": "hJrqaTzvaNSq",
    "outputId": "d6a6c887-fd2f-4310-807b-36f7b653b067"
   },
   "outputs": [
    {
     "data": {
      "text/plain": [
       "['Carrie Daugherty',\n",
       " 'Tim',\n",
       " 'IMDB',\n",
       " 'Martin Starr',\n",
       " 'Martin',\n",
       " 'Gilfoyle',\n",
       " 'Kumail',\n",
       " 'Farsi',\n",
       " 'Dinesh',\n",
       " 'Apple',\n",
       " 'John',\n",
       " 'Freaks',\n",
       " 'Geeks',\n",
       " 'Model UN Battle Royale']"
      ]
     },
     "execution_count": 117,
     "metadata": {},
     "output_type": "execute_result"
    }
   ],
   "source": [
    "obj.get_unique_ents()"
   ]
  },
  {
   "cell_type": "code",
   "execution_count": 118,
   "metadata": {
    "colab": {
     "base_uri": "https://localhost:8080/",
     "height": 34
    },
    "colab_type": "code",
    "id": "rMC39FGUcQw3",
    "outputId": "d6d19d53-a91e-4def-980a-8ee6a2005cc3"
   },
   "outputs": [
    {
     "data": {
      "text/plain": [
       "14"
      ]
     },
     "execution_count": 118,
     "metadata": {},
     "output_type": "execute_result"
    }
   ],
   "source": [
    "len(obj.get_unique_ents())"
   ]
  },
  {
   "cell_type": "markdown",
   "metadata": {
    "colab_type": "text",
    "id": "ipbb9eA_hOa5"
   },
   "source": [
    "## View How Many Times Recognised Entity Label is Referenced "
   ]
  },
  {
   "cell_type": "markdown",
   "metadata": {
    "colab_type": "text",
    "id": "VM3FlR42hyfK"
   },
   "source": [
    "### This method .show_label_stats() returns a Counter Object "
   ]
  },
  {
   "cell_type": "code",
   "execution_count": 119,
   "metadata": {
    "colab": {
     "base_uri": "https://localhost:8080/",
     "height": 50
    },
    "colab_type": "code",
    "id": "vw4k_rLyhqVR",
    "outputId": "924e0a06-b58a-4bd7-d25e-efd6a7e89fd1"
   },
   "outputs": [
    {
     "data": {
      "text/plain": [
       "Counter({'PERSON': 8, 'ORG': 11, 'NORP': 1})"
      ]
     },
     "execution_count": 119,
     "metadata": {},
     "output_type": "execute_result"
    }
   ],
   "source": [
    "obj.show_label_stats()"
   ]
  },
  {
   "cell_type": "markdown",
   "metadata": {
    "colab_type": "text",
    "id": "kHdGfQ8VjDmu"
   },
   "source": [
    "## Make a Wildcard Search,which returns all Instances of transcripts closest to your Search(Calculated using Cosine Similarity).Returns a Dictionary of all those related Transcripts"
   ]
  },
  {
   "cell_type": "code",
   "execution_count": 120,
   "metadata": {
    "colab": {
     "base_uri": "https://localhost:8080/",
     "height": 252
    },
    "colab_type": "code",
    "id": "tw5_F6-Kg-Wx",
    "outputId": "91e6a95a-6939-400c-c3c3-f332feb239a6"
   },
   "outputs": [
    {
     "data": {
      "text/plain": [
       "[{'text': 'favorite bit on valley will always be', 'start': 170.94, 'ent': []},\n",
       " {'text': 'on Silicon Valley was it nice to switch',\n",
       "  'start': 223.32,\n",
       "  'ent': []},\n",
       " {'text': 'finale of Silicon Valley yes the final', 'start': 20.88, 'ent': []},\n",
       " {'text': 'purposes between Silicon Valley party', 'start': 267.09, 'ent': []}]"
      ]
     },
     "execution_count": 120,
     "metadata": {},
     "output_type": "execute_result"
    }
   ],
   "source": [
    "obj.wildcard_search('Silicon valley')"
   ]
  },
  {
   "cell_type": "markdown",
   "metadata": {
    "colab_type": "text",
    "id": "yolgOdjmktP6"
   },
   "source": [
    "## Search By N number of Entities Recognised in the Video,For Filtering pass it as a list of Entities you want to search by"
   ]
  },
  {
   "cell_type": "code",
   "execution_count": 121,
   "metadata": {
    "colab": {
     "base_uri": "https://localhost:8080/",
     "height": 286
    },
    "colab_type": "code",
    "id": "FyWLQyxIkKz4",
    "outputId": "b8f71fd7-b352-429d-ddc2-78bb78cd224e"
   },
   "outputs": [
    {
     "data": {
      "text/plain": [
       "[{'text': 'in for Tim cash and this is the IMDB',\n",
       "  'start': 3.21,\n",
       "  'ent': ['Tim', 'IMDB']},\n",
       " {'text': 'about you when you go to the Apple',\n",
       "  'start': 128.039,\n",
       "  'ent': ['Apple']},\n",
       " {'text': \"don't go to the Apple store for exactly\",\n",
       "  'start': 141.93,\n",
       "  'ent': ['Apple']},\n",
       " {'text': \"haven't taken them in to the Apple store\",\n",
       "  'start': 148.05,\n",
       "  'ent': ['Apple']},\n",
       " {'text': 'fridge into the Apple store you know',\n",
       "  'start': 152.19,\n",
       "  'ent': ['Apple']},\n",
       " {'text': \"didn't check my IMDB page there's only\",\n",
       "  'start': 296.82,\n",
       "  'ent': ['IMDB']}]"
      ]
     },
     "execution_count": 121,
     "metadata": {},
     "output_type": "execute_result"
    }
   ],
   "source": [
    "obj.search_by_ents(['IMDB','Tim','Apple'])"
   ]
  },
  {
   "cell_type": "markdown",
   "metadata": {
    "colab_type": "text",
    "id": "80KvKCQ5mZp2"
   },
   "source": [
    "## Perform  Auto Topic Modeling to segregate the transcripts into segments ,call the .segregate_topic() method . A tuple of Dataframe and dictionary will be returned"
   ]
  },
  {
   "cell_type": "code",
   "execution_count": 122,
   "metadata": {
    "colab": {},
    "colab_type": "code",
    "id": "uDk_2sfElNjU"
   },
   "outputs": [],
   "source": [
    "data,d=obj.segregate_topic()"
   ]
  },
  {
   "cell_type": "markdown",
   "metadata": {
    "colab_type": "text",
    "id": "6M0BKyldnL6I"
   },
   "source": [
    "## Having a Look At the returned DataFrame"
   ]
  },
  {
   "cell_type": "code",
   "execution_count": 123,
   "metadata": {
    "colab": {
     "base_uri": "https://localhost:8080/",
     "height": 195
    },
    "colab_type": "code",
    "id": "x_zLdXNynKPv",
    "outputId": "bf7ada6e-e182-411b-c173-21c98f82a2e9"
   },
   "outputs": [
    {
     "data": {
      "text/html": [
       "<div>\n",
       "<style scoped>\n",
       "    .dataframe tbody tr th:only-of-type {\n",
       "        vertical-align: middle;\n",
       "    }\n",
       "\n",
       "    .dataframe tbody tr th {\n",
       "        vertical-align: top;\n",
       "    }\n",
       "\n",
       "    .dataframe thead th {\n",
       "        text-align: right;\n",
       "    }\n",
       "</style>\n",
       "<table border=\"1\" class=\"dataframe\">\n",
       "  <thead>\n",
       "    <tr style=\"text-align: right;\">\n",
       "      <th></th>\n",
       "      <th>Text</th>\n",
       "      <th>Start</th>\n",
       "      <th>cleaned_text</th>\n",
       "      <th>label</th>\n",
       "      <th>topic_label</th>\n",
       "    </tr>\n",
       "  </thead>\n",
       "  <tbody>\n",
       "    <tr>\n",
       "      <th>0</th>\n",
       "      <td>hi everyone I'm Carrie Daugherty filling</td>\n",
       "      <td>0.530</td>\n",
       "      <td>hi everyone I'm Carrie Daugherty filling</td>\n",
       "      <td>[Carrie Daugherty]</td>\n",
       "      <td>0</td>\n",
       "    </tr>\n",
       "    <tr>\n",
       "      <th>1</th>\n",
       "      <td>in for Tim cash and this is the IMDB</td>\n",
       "      <td>3.210</td>\n",
       "      <td>in for Tim cash and this is the IMDB</td>\n",
       "      <td>[Tim, IMDB]</td>\n",
       "      <td>0</td>\n",
       "    </tr>\n",
       "    <tr>\n",
       "      <th>2</th>\n",
       "      <td>show today's guest is my friend Martin</td>\n",
       "      <td>5.370</td>\n",
       "      <td>show today's guest is my friend Martin</td>\n",
       "      <td>[Martin]</td>\n",
       "      <td>0</td>\n",
       "    </tr>\n",
       "    <tr>\n",
       "      <th>3</th>\n",
       "      <td>Starr welcome Martin it's weird when you</td>\n",
       "      <td>7.740</td>\n",
       "      <td>Starr welcome Martin it's weird when you</td>\n",
       "      <td>[Starr, Martin]</td>\n",
       "      <td>0</td>\n",
       "    </tr>\n",
       "    <tr>\n",
       "      <th>4</th>\n",
       "      <td>clap it sounds like multiple people</td>\n",
       "      <td>12.059</td>\n",
       "      <td>clap it sounds like multiple people</td>\n",
       "      <td>[]</td>\n",
       "      <td>1</td>\n",
       "    </tr>\n",
       "  </tbody>\n",
       "</table>\n",
       "</div>"
      ],
      "text/plain": [
       "                                       Text   Start  \\\n",
       "0  hi everyone I'm Carrie Daugherty filling   0.530   \n",
       "1      in for Tim cash and this is the IMDB   3.210   \n",
       "2    show today's guest is my friend Martin   5.370   \n",
       "3  Starr welcome Martin it's weird when you   7.740   \n",
       "4       clap it sounds like multiple people  12.059   \n",
       "\n",
       "                               cleaned_text               label  topic_label  \n",
       "0  hi everyone I'm Carrie Daugherty filling  [Carrie Daugherty]            0  \n",
       "1      in for Tim cash and this is the IMDB         [Tim, IMDB]            0  \n",
       "2    show today's guest is my friend Martin            [Martin]            0  \n",
       "3  Starr welcome Martin it's weird when you     [Starr, Martin]            0  \n",
       "4       clap it sounds like multiple people                  []            1  "
      ]
     },
     "execution_count": 123,
     "metadata": {},
     "output_type": "execute_result"
    }
   ],
   "source": [
    "data.head()"
   ]
  },
  {
   "cell_type": "markdown",
   "metadata": {
    "colab_type": "text",
    "id": "yU2Uxht1nSZY"
   },
   "source": [
    "## Having a Look At the Dictionary Returned,Index is the topic Label and the value is the list of top occuring words belonging to that Label"
   ]
  },
  {
   "cell_type": "code",
   "execution_count": 124,
   "metadata": {
    "colab": {
     "base_uri": "https://localhost:8080/",
     "height": 353
    },
    "colab_type": "code",
    "id": "HYRPJyl6nLiB",
    "outputId": "c0ecf90f-09f9-4804-b872-7df8d7105d8a"
   },
   "outputs": [
    {
     "data": {
      "text/plain": [
       "{0: ['did',\n",
       "  'doing',\n",
       "  'way',\n",
       "  'silicon',\n",
       "  'store',\n",
       "  'sorry',\n",
       "  'ensemble',\n",
       "  'valley',\n",
       "  'moment',\n",
       "  'nice',\n",
       "  'yeah',\n",
       "  'funny',\n",
       "  'people',\n",
       "  'cuz',\n",
       "  'know',\n",
       "  'really',\n",
       "  'don',\n",
       "  'metal',\n",
       "  'favorite',\n",
       "  'think'],\n",
       " 1: ['lot',\n",
       "  'quit',\n",
       "  'say',\n",
       "  'number',\n",
       "  'apple',\n",
       "  'great',\n",
       "  'saying',\n",
       "  'yeah',\n",
       "  'gonna',\n",
       "  'way',\n",
       "  'don',\n",
       "  'nice',\n",
       "  'know',\n",
       "  'feel',\n",
       "  'oh',\n",
       "  'people',\n",
       "  've',\n",
       "  'just',\n",
       "  'like',\n",
       "  'good']}"
      ]
     },
     "execution_count": 124,
     "metadata": {},
     "output_type": "execute_result"
    }
   ],
   "source": [
    "d"
   ]
  },
  {
   "cell_type": "markdown",
   "metadata": {
    "colab_type": "text",
    "id": "iIfgKyjYn1mA"
   },
   "source": [
    "## Unsatisfied with the Number of topic segments,Pass your choice and we will segment the transcript accordingly "
   ]
  },
  {
   "cell_type": "code",
   "execution_count": 125,
   "metadata": {
    "colab": {},
    "colab_type": "code",
    "id": "Vy0rTXuonZzi"
   },
   "outputs": [],
   "source": [
    "data,d=obj.segregate_topic(3)"
   ]
  },
  {
   "cell_type": "code",
   "execution_count": 126,
   "metadata": {
    "colab": {
     "base_uri": "https://localhost:8080/",
     "height": 195
    },
    "colab_type": "code",
    "id": "7Kl0QV9Do1kF",
    "outputId": "5343d57c-54df-4fe5-e842-d3ec5630287b"
   },
   "outputs": [
    {
     "data": {
      "text/html": [
       "<div>\n",
       "<style scoped>\n",
       "    .dataframe tbody tr th:only-of-type {\n",
       "        vertical-align: middle;\n",
       "    }\n",
       "\n",
       "    .dataframe tbody tr th {\n",
       "        vertical-align: top;\n",
       "    }\n",
       "\n",
       "    .dataframe thead th {\n",
       "        text-align: right;\n",
       "    }\n",
       "</style>\n",
       "<table border=\"1\" class=\"dataframe\">\n",
       "  <thead>\n",
       "    <tr style=\"text-align: right;\">\n",
       "      <th></th>\n",
       "      <th>Text</th>\n",
       "      <th>Start</th>\n",
       "      <th>cleaned_text</th>\n",
       "      <th>label</th>\n",
       "      <th>topic_label</th>\n",
       "    </tr>\n",
       "  </thead>\n",
       "  <tbody>\n",
       "    <tr>\n",
       "      <th>0</th>\n",
       "      <td>hi everyone I'm Carrie Daugherty filling</td>\n",
       "      <td>0.530</td>\n",
       "      <td>hi everyone I'm Carrie Daugherty filling</td>\n",
       "      <td>[Carrie Daugherty]</td>\n",
       "      <td>0</td>\n",
       "    </tr>\n",
       "    <tr>\n",
       "      <th>1</th>\n",
       "      <td>in for Tim cash and this is the IMDB</td>\n",
       "      <td>3.210</td>\n",
       "      <td>in for Tim cash and this is the IMDB</td>\n",
       "      <td>[Tim, IMDB]</td>\n",
       "      <td>1</td>\n",
       "    </tr>\n",
       "    <tr>\n",
       "      <th>2</th>\n",
       "      <td>show today's guest is my friend Martin</td>\n",
       "      <td>5.370</td>\n",
       "      <td>show today's guest is my friend Martin</td>\n",
       "      <td>[Martin]</td>\n",
       "      <td>0</td>\n",
       "    </tr>\n",
       "    <tr>\n",
       "      <th>3</th>\n",
       "      <td>Starr welcome Martin it's weird when you</td>\n",
       "      <td>7.740</td>\n",
       "      <td>Starr welcome Martin it's weird when you</td>\n",
       "      <td>[Starr, Martin]</td>\n",
       "      <td>0</td>\n",
       "    </tr>\n",
       "    <tr>\n",
       "      <th>4</th>\n",
       "      <td>clap it sounds like multiple people</td>\n",
       "      <td>12.059</td>\n",
       "      <td>clap it sounds like multiple people</td>\n",
       "      <td>[]</td>\n",
       "      <td>2</td>\n",
       "    </tr>\n",
       "  </tbody>\n",
       "</table>\n",
       "</div>"
      ],
      "text/plain": [
       "                                       Text   Start  \\\n",
       "0  hi everyone I'm Carrie Daugherty filling   0.530   \n",
       "1      in for Tim cash and this is the IMDB   3.210   \n",
       "2    show today's guest is my friend Martin   5.370   \n",
       "3  Starr welcome Martin it's weird when you   7.740   \n",
       "4       clap it sounds like multiple people  12.059   \n",
       "\n",
       "                               cleaned_text               label  topic_label  \n",
       "0  hi everyone I'm Carrie Daugherty filling  [Carrie Daugherty]            0  \n",
       "1      in for Tim cash and this is the IMDB         [Tim, IMDB]            1  \n",
       "2    show today's guest is my friend Martin            [Martin]            0  \n",
       "3  Starr welcome Martin it's weird when you     [Starr, Martin]            0  \n",
       "4       clap it sounds like multiple people                  []            2  "
      ]
     },
     "execution_count": 126,
     "metadata": {},
     "output_type": "execute_result"
    }
   ],
   "source": [
    "data.head()"
   ]
  },
  {
   "cell_type": "code",
   "execution_count": 127,
   "metadata": {
    "colab": {
     "base_uri": "https://localhost:8080/",
     "height": 1000
    },
    "colab_type": "code",
    "id": "dQHOisF3o2qz",
    "outputId": "0361885b-c9fb-4ee1-8959-2a9fcb8e49fe"
   },
   "outputs": [
    {
     "data": {
      "text/plain": [
       "{0: ['way',\n",
       "  'silicon',\n",
       "  'did',\n",
       "  'apple',\n",
       "  'store',\n",
       "  'sorry',\n",
       "  'ensemble',\n",
       "  'valley',\n",
       "  'moment',\n",
       "  'nice',\n",
       "  'yeah',\n",
       "  'people',\n",
       "  'funny',\n",
       "  'cuz',\n",
       "  'know',\n",
       "  'really',\n",
       "  'don',\n",
       "  'metal',\n",
       "  'favorite',\n",
       "  'think'],\n",
       " 1: ['throw',\n",
       "  'funny',\n",
       "  'doing',\n",
       "  'favorite',\n",
       "  'right',\n",
       "  'series',\n",
       "  'sorry',\n",
       "  'kind',\n",
       "  'season',\n",
       "  'know',\n",
       "  'store',\n",
       "  'apple',\n",
       "  'gonna',\n",
       "  'quit',\n",
       "  'yeah',\n",
       "  'way',\n",
       "  'just',\n",
       "  'don',\n",
       "  'oh',\n",
       "  'good'],\n",
       " 2: ['community',\n",
       "  'dying',\n",
       "  'gonna',\n",
       "  'end',\n",
       "  'set',\n",
       "  'definitely',\n",
       "  'thing',\n",
       "  'fun',\n",
       "  'number',\n",
       "  'say',\n",
       "  'lot',\n",
       "  'know',\n",
       "  'great',\n",
       "  'saying',\n",
       "  'just',\n",
       "  'nice',\n",
       "  'feel',\n",
       "  'people',\n",
       "  've',\n",
       "  'like']}"
      ]
     },
     "execution_count": 127,
     "metadata": {},
     "output_type": "execute_result"
    }
   ],
   "source": [
    "d"
   ]
  },
  {
   "cell_type": "markdown",
   "metadata": {
    "colab_type": "text",
    "id": "RPMO-s0vpNOf"
   },
   "source": [
    "## Perform Sentiment Analysis,on the Transcript,by calling the sentiment_analysis(),which returns a Dictionary consisting of DataFrame,number of Instances for postivie sentiments and the same for negative and neutral sentiments"
   ]
  },
  {
   "cell_type": "code",
   "execution_count": 128,
   "metadata": {
    "colab": {},
    "colab_type": "code",
    "id": "K8V1k7RYo30a"
   },
   "outputs": [],
   "source": [
    "k=obj.sentiment_analysis()"
   ]
  },
  {
   "cell_type": "code",
   "execution_count": 129,
   "metadata": {
    "colab": {},
    "colab_type": "code",
    "id": "dRmEHAIjqLm3"
   },
   "outputs": [],
   "source": [
    "dataf=k['DataFrame']"
   ]
  },
  {
   "cell_type": "markdown",
   "metadata": {
    "colab_type": "text",
    "id": "xVe3vNpDqiQ1"
   },
   "source": [
    "## Having a look at the DataFrame"
   ]
  },
  {
   "cell_type": "code",
   "execution_count": 130,
   "metadata": {
    "colab": {
     "base_uri": "https://localhost:8080/",
     "height": 195
    },
    "colab_type": "code",
    "id": "Ups-V6gRqhdl",
    "outputId": "abb4b08a-3090-489b-fb36-56be4b6d3c73"
   },
   "outputs": [
    {
     "data": {
      "text/html": [
       "<div>\n",
       "<style scoped>\n",
       "    .dataframe tbody tr th:only-of-type {\n",
       "        vertical-align: middle;\n",
       "    }\n",
       "\n",
       "    .dataframe tbody tr th {\n",
       "        vertical-align: top;\n",
       "    }\n",
       "\n",
       "    .dataframe thead th {\n",
       "        text-align: right;\n",
       "    }\n",
       "</style>\n",
       "<table border=\"1\" class=\"dataframe\">\n",
       "  <thead>\n",
       "    <tr style=\"text-align: right;\">\n",
       "      <th></th>\n",
       "      <th>Text</th>\n",
       "      <th>Start</th>\n",
       "      <th>cleaned_text</th>\n",
       "      <th>label</th>\n",
       "      <th>topic_label</th>\n",
       "      <th>sentiment_dict</th>\n",
       "      <th>sentiment_label</th>\n",
       "    </tr>\n",
       "  </thead>\n",
       "  <tbody>\n",
       "    <tr>\n",
       "      <th>0</th>\n",
       "      <td>hi everyone I'm Carrie Daugherty filling</td>\n",
       "      <td>0.530</td>\n",
       "      <td>hi everyone I'm Carrie Daugherty filling</td>\n",
       "      <td>[Carrie Daugherty]</td>\n",
       "      <td>0</td>\n",
       "      <td>{'neg': 0.0, 'neu': 1.0, 'pos': 0.0, 'compound...</td>\n",
       "      <td>Neutral</td>\n",
       "    </tr>\n",
       "    <tr>\n",
       "      <th>1</th>\n",
       "      <td>in for Tim cash and this is the IMDB</td>\n",
       "      <td>3.210</td>\n",
       "      <td>in for Tim cash and this is the IMDB</td>\n",
       "      <td>[Tim, IMDB]</td>\n",
       "      <td>1</td>\n",
       "      <td>{'neg': 0.0, 'neu': 1.0, 'pos': 0.0, 'compound...</td>\n",
       "      <td>Neutral</td>\n",
       "    </tr>\n",
       "    <tr>\n",
       "      <th>2</th>\n",
       "      <td>show today's guest is my friend Martin</td>\n",
       "      <td>5.370</td>\n",
       "      <td>show today's guest is my friend Martin</td>\n",
       "      <td>[Martin]</td>\n",
       "      <td>0</td>\n",
       "      <td>{'neg': 0.0, 'neu': 0.652, 'pos': 0.348, 'comp...</td>\n",
       "      <td>Positive</td>\n",
       "    </tr>\n",
       "    <tr>\n",
       "      <th>3</th>\n",
       "      <td>Starr welcome Martin it's weird when you</td>\n",
       "      <td>7.740</td>\n",
       "      <td>Starr welcome Martin it's weird when you</td>\n",
       "      <td>[Starr, Martin]</td>\n",
       "      <td>0</td>\n",
       "      <td>{'neg': 0.175, 'neu': 0.515, 'pos': 0.309, 'co...</td>\n",
       "      <td>Neutral</td>\n",
       "    </tr>\n",
       "    <tr>\n",
       "      <th>4</th>\n",
       "      <td>clap it sounds like multiple people</td>\n",
       "      <td>12.059</td>\n",
       "      <td>clap it sounds like multiple people</td>\n",
       "      <td>[]</td>\n",
       "      <td>2</td>\n",
       "      <td>{'neg': 0.0, 'neu': 0.667, 'pos': 0.333, 'comp...</td>\n",
       "      <td>Neutral</td>\n",
       "    </tr>\n",
       "  </tbody>\n",
       "</table>\n",
       "</div>"
      ],
      "text/plain": [
       "                                       Text   Start  \\\n",
       "0  hi everyone I'm Carrie Daugherty filling   0.530   \n",
       "1      in for Tim cash and this is the IMDB   3.210   \n",
       "2    show today's guest is my friend Martin   5.370   \n",
       "3  Starr welcome Martin it's weird when you   7.740   \n",
       "4       clap it sounds like multiple people  12.059   \n",
       "\n",
       "                               cleaned_text               label  topic_label  \\\n",
       "0  hi everyone I'm Carrie Daugherty filling  [Carrie Daugherty]            0   \n",
       "1      in for Tim cash and this is the IMDB         [Tim, IMDB]            1   \n",
       "2    show today's guest is my friend Martin            [Martin]            0   \n",
       "3  Starr welcome Martin it's weird when you     [Starr, Martin]            0   \n",
       "4       clap it sounds like multiple people                  []            2   \n",
       "\n",
       "                                      sentiment_dict sentiment_label  \n",
       "0  {'neg': 0.0, 'neu': 1.0, 'pos': 0.0, 'compound...         Neutral  \n",
       "1  {'neg': 0.0, 'neu': 1.0, 'pos': 0.0, 'compound...         Neutral  \n",
       "2  {'neg': 0.0, 'neu': 0.652, 'pos': 0.348, 'comp...        Positive  \n",
       "3  {'neg': 0.175, 'neu': 0.515, 'pos': 0.309, 'co...         Neutral  \n",
       "4  {'neg': 0.0, 'neu': 0.667, 'pos': 0.333, 'comp...         Neutral  "
      ]
     },
     "execution_count": 130,
     "metadata": {},
     "output_type": "execute_result"
    }
   ],
   "source": [
    "dataf.head()"
   ]
  },
  {
   "cell_type": "code",
   "execution_count": 131,
   "metadata": {
    "colab": {},
    "colab_type": "code",
    "id": "_RetuXj4qurr"
   },
   "outputs": [],
   "source": [
    "positive=k['Positive']"
   ]
  },
  {
   "cell_type": "code",
   "execution_count": 132,
   "metadata": {
    "colab": {
     "base_uri": "https://localhost:8080/",
     "height": 34
    },
    "colab_type": "code",
    "id": "b0QAle-ZqzRa",
    "outputId": "34a055ac-de63-4ef2-a492-10d4b9cdba26"
   },
   "outputs": [
    {
     "data": {
      "text/plain": [
       "38"
      ]
     },
     "execution_count": 132,
     "metadata": {},
     "output_type": "execute_result"
    }
   ],
   "source": [
    "positive"
   ]
  },
  {
   "cell_type": "code",
   "execution_count": 133,
   "metadata": {
    "colab": {},
    "colab_type": "code",
    "id": "C_E8FvlZq0tt"
   },
   "outputs": [],
   "source": [
    "negative=k['Negative']"
   ]
  },
  {
   "cell_type": "code",
   "execution_count": 134,
   "metadata": {
    "colab": {
     "base_uri": "https://localhost:8080/",
     "height": 34
    },
    "colab_type": "code",
    "id": "E1L4xll6q2-e",
    "outputId": "8db0a662-5f6d-42ed-dde5-b6b44d1f768f"
   },
   "outputs": [
    {
     "data": {
      "text/plain": [
       "8"
      ]
     },
     "execution_count": 134,
     "metadata": {},
     "output_type": "execute_result"
    }
   ],
   "source": [
    "negative"
   ]
  },
  {
   "cell_type": "code",
   "execution_count": 135,
   "metadata": {
    "colab": {},
    "colab_type": "code",
    "id": "PNQYnGz5q4I8"
   },
   "outputs": [],
   "source": [
    "neutral=k['Neutral']"
   ]
  },
  {
   "cell_type": "code",
   "execution_count": 136,
   "metadata": {
    "colab": {
     "base_uri": "https://localhost:8080/",
     "height": 34
    },
    "colab_type": "code",
    "id": "BIgIlHqcq7Ss",
    "outputId": "098750cd-2df1-422b-958a-0038a0fc97d8"
   },
   "outputs": [
    {
     "data": {
      "text/plain": [
       "81"
      ]
     },
     "execution_count": 136,
     "metadata": {},
     "output_type": "execute_result"
    }
   ],
   "source": [
    "neutral"
   ]
  },
  {
   "cell_type": "markdown",
   "metadata": {
    "colab_type": "text",
    "id": "vm82IfvprG79"
   },
   "source": [
    "## We calculate sentiment course with a Specific Criteria being that if the Compound Score Lies in the range (-0.3,0.4),this however can be changed based on your intution by passing the range you want for neutral Sentiment"
   ]
  },
  {
   "cell_type": "code",
   "execution_count": 137,
   "metadata": {
    "colab": {},
    "colab_type": "code",
    "id": "gUIAmp4qq78s"
   },
   "outputs": [],
   "source": [
    "d=obj.sentiment_analysis(thresh=(0.6,-0.4))"
   ]
  },
  {
   "cell_type": "code",
   "execution_count": 138,
   "metadata": {
    "colab": {
     "base_uri": "https://localhost:8080/",
     "height": 195
    },
    "colab_type": "code",
    "id": "eGclHaI-sEhc",
    "outputId": "601a1b4b-da88-4648-fdf7-dfeaab32ad8c"
   },
   "outputs": [
    {
     "data": {
      "text/html": [
       "<div>\n",
       "<style scoped>\n",
       "    .dataframe tbody tr th:only-of-type {\n",
       "        vertical-align: middle;\n",
       "    }\n",
       "\n",
       "    .dataframe tbody tr th {\n",
       "        vertical-align: top;\n",
       "    }\n",
       "\n",
       "    .dataframe thead th {\n",
       "        text-align: right;\n",
       "    }\n",
       "</style>\n",
       "<table border=\"1\" class=\"dataframe\">\n",
       "  <thead>\n",
       "    <tr style=\"text-align: right;\">\n",
       "      <th></th>\n",
       "      <th>Text</th>\n",
       "      <th>Start</th>\n",
       "      <th>cleaned_text</th>\n",
       "      <th>label</th>\n",
       "      <th>topic_label</th>\n",
       "      <th>sentiment_dict</th>\n",
       "      <th>sentiment_label</th>\n",
       "    </tr>\n",
       "  </thead>\n",
       "  <tbody>\n",
       "    <tr>\n",
       "      <th>0</th>\n",
       "      <td>hi everyone I'm Carrie Daugherty filling</td>\n",
       "      <td>0.530</td>\n",
       "      <td>hi everyone I'm Carrie Daugherty filling</td>\n",
       "      <td>[Carrie Daugherty]</td>\n",
       "      <td>0</td>\n",
       "      <td>{'neg': 0.0, 'neu': 1.0, 'pos': 0.0, 'compound...</td>\n",
       "      <td>Neutral</td>\n",
       "    </tr>\n",
       "    <tr>\n",
       "      <th>1</th>\n",
       "      <td>in for Tim cash and this is the IMDB</td>\n",
       "      <td>3.210</td>\n",
       "      <td>in for Tim cash and this is the IMDB</td>\n",
       "      <td>[Tim, IMDB]</td>\n",
       "      <td>1</td>\n",
       "      <td>{'neg': 0.0, 'neu': 1.0, 'pos': 0.0, 'compound...</td>\n",
       "      <td>Neutral</td>\n",
       "    </tr>\n",
       "    <tr>\n",
       "      <th>2</th>\n",
       "      <td>show today's guest is my friend Martin</td>\n",
       "      <td>5.370</td>\n",
       "      <td>show today's guest is my friend Martin</td>\n",
       "      <td>[Martin]</td>\n",
       "      <td>0</td>\n",
       "      <td>{'neg': 0.0, 'neu': 0.652, 'pos': 0.348, 'comp...</td>\n",
       "      <td>Neutral</td>\n",
       "    </tr>\n",
       "    <tr>\n",
       "      <th>3</th>\n",
       "      <td>Starr welcome Martin it's weird when you</td>\n",
       "      <td>7.740</td>\n",
       "      <td>Starr welcome Martin it's weird when you</td>\n",
       "      <td>[Starr, Martin]</td>\n",
       "      <td>0</td>\n",
       "      <td>{'neg': 0.175, 'neu': 0.515, 'pos': 0.309, 'co...</td>\n",
       "      <td>Neutral</td>\n",
       "    </tr>\n",
       "    <tr>\n",
       "      <th>4</th>\n",
       "      <td>clap it sounds like multiple people</td>\n",
       "      <td>12.059</td>\n",
       "      <td>clap it sounds like multiple people</td>\n",
       "      <td>[]</td>\n",
       "      <td>2</td>\n",
       "      <td>{'neg': 0.0, 'neu': 0.667, 'pos': 0.333, 'comp...</td>\n",
       "      <td>Neutral</td>\n",
       "    </tr>\n",
       "  </tbody>\n",
       "</table>\n",
       "</div>"
      ],
      "text/plain": [
       "                                       Text   Start  \\\n",
       "0  hi everyone I'm Carrie Daugherty filling   0.530   \n",
       "1      in for Tim cash and this is the IMDB   3.210   \n",
       "2    show today's guest is my friend Martin   5.370   \n",
       "3  Starr welcome Martin it's weird when you   7.740   \n",
       "4       clap it sounds like multiple people  12.059   \n",
       "\n",
       "                               cleaned_text               label  topic_label  \\\n",
       "0  hi everyone I'm Carrie Daugherty filling  [Carrie Daugherty]            0   \n",
       "1      in for Tim cash and this is the IMDB         [Tim, IMDB]            1   \n",
       "2    show today's guest is my friend Martin            [Martin]            0   \n",
       "3  Starr welcome Martin it's weird when you     [Starr, Martin]            0   \n",
       "4       clap it sounds like multiple people                  []            2   \n",
       "\n",
       "                                      sentiment_dict sentiment_label  \n",
       "0  {'neg': 0.0, 'neu': 1.0, 'pos': 0.0, 'compound...         Neutral  \n",
       "1  {'neg': 0.0, 'neu': 1.0, 'pos': 0.0, 'compound...         Neutral  \n",
       "2  {'neg': 0.0, 'neu': 0.652, 'pos': 0.348, 'comp...         Neutral  \n",
       "3  {'neg': 0.175, 'neu': 0.515, 'pos': 0.309, 'co...         Neutral  \n",
       "4  {'neg': 0.0, 'neu': 0.667, 'pos': 0.333, 'comp...         Neutral  "
      ]
     },
     "execution_count": 138,
     "metadata": {},
     "output_type": "execute_result"
    }
   ],
   "source": [
    "d['DataFrame'].head()"
   ]
  },
  {
   "cell_type": "code",
   "execution_count": 139,
   "metadata": {
    "colab": {
     "base_uri": "https://localhost:8080/",
     "height": 34
    },
    "colab_type": "code",
    "id": "rCarxDzVsGsR",
    "outputId": "cdfd59a7-bbfd-4189-cfeb-47bacffadc68"
   },
   "outputs": [
    {
     "data": {
      "text/plain": [
       "109"
      ]
     },
     "execution_count": 139,
     "metadata": {},
     "output_type": "execute_result"
    }
   ],
   "source": [
    "d['Neutral']"
   ]
  },
  {
   "cell_type": "code",
   "execution_count": 140,
   "metadata": {
    "colab": {
     "base_uri": "https://localhost:8080/",
     "height": 34
    },
    "colab_type": "code",
    "id": "otYIB6D2sfrC",
    "outputId": "4f9a24bc-c795-45cc-9643-ce46a9543a73"
   },
   "outputs": [
    {
     "data": {
      "text/plain": [
       "11"
      ]
     },
     "execution_count": 140,
     "metadata": {},
     "output_type": "execute_result"
    }
   ],
   "source": [
    "d['Positive']"
   ]
  },
  {
   "cell_type": "code",
   "execution_count": 141,
   "metadata": {
    "colab": {
     "base_uri": "https://localhost:8080/",
     "height": 34
    },
    "colab_type": "code",
    "id": "P5MSLIINshDo",
    "outputId": "ad2a7378-8588-4efc-ede7-ab1dad4758e8"
   },
   "outputs": [
    {
     "data": {
      "text/plain": [
       "7"
      ]
     },
     "execution_count": 141,
     "metadata": {},
     "output_type": "execute_result"
    }
   ],
   "source": [
    "d['Negative']"
   ]
  },
  {
   "cell_type": "markdown",
   "metadata": {
    "colab_type": "text",
    "id": "TN3sDr7KtAL2"
   },
   "source": [
    "## If Suppose you want to Include some sentiment labels that were excluded "
   ]
  },
  {
   "cell_type": "markdown",
   "metadata": {
    "colab_type": "text",
    "id": "HqLGw36ZtQAu"
   },
   "source": [
    "### Create new instance of the spy class"
   ]
  },
  {
   "cell_type": "code",
   "execution_count": 142,
   "metadata": {
    "colab": {},
    "colab_type": "code",
    "id": "y7VI2IBcsiAC"
   },
   "outputs": [],
   "source": [
    "p=spy('HGXBsRYGsYw')"
   ]
  },
  {
   "cell_type": "code",
   "execution_count": 143,
   "metadata": {
    "colab": {
     "base_uri": "https://localhost:8080/",
     "height": 34
    },
    "colab_type": "code",
    "id": "Z-XdpOo4tY9Z",
    "outputId": "8ec914ce-8c73-4e0c-c366-16809ba0e034"
   },
   "outputs": [
    {
     "data": {
      "text/plain": [
       "['DATE', 'TIME', 'MONEY', 'QUANTITY', 'ORDINAL', 'CARDINAL', 'LANGUAGE', 'LOC']"
      ]
     },
     "execution_count": 143,
     "metadata": {},
     "output_type": "execute_result"
    }
   ],
   "source": [
    "p.get_unwanted()"
   ]
  },
  {
   "cell_type": "markdown",
   "metadata": {
    "colab_type": "text",
    "id": "l-8NGvc5thpW"
   },
   "source": [
    "## Generate DataFrame based on your choice on unwanted labels"
   ]
  },
  {
   "cell_type": "markdown",
   "metadata": {
    "colab_type": "text",
    "id": "lSjFesqitwwn"
   },
   "source": [
    "### In this Case we will be passing an empty list to be considered for unwanted sentiment labels"
   ]
  },
  {
   "cell_type": "code",
   "execution_count": 144,
   "metadata": {
    "colab": {},
    "colab_type": "code",
    "id": "AIjhsr5ztbjw"
   },
   "outputs": [],
   "source": [
    "p.tweak_unwanted([])"
   ]
  },
  {
   "cell_type": "markdown",
   "metadata": {
    "colab_type": "text",
    "id": "MCntSiB1t9Xc"
   },
   "source": [
    "## Now the Process remains the Same"
   ]
  },
  {
   "cell_type": "code",
   "execution_count": 145,
   "metadata": {
    "colab": {
     "base_uri": "https://localhost:8080/",
     "height": 67
    },
    "colab_type": "code",
    "id": "FNR-YXo0t4Od",
    "outputId": "9c7abab0-24d4-49d6-ff2d-4bb0f3ef7ba9"
   },
   "outputs": [
    {
     "name": "stdout",
     "output_type": "stream",
     "text": [
      "Creating DataFrame.....\n",
      "Cleaning Text....\n",
      "Identifying Entities....\n"
     ]
    }
   ],
   "source": [
    "l=p.generate_df()"
   ]
  },
  {
   "cell_type": "code",
   "execution_count": 146,
   "metadata": {
    "colab": {
     "base_uri": "https://localhost:8080/",
     "height": 195
    },
    "colab_type": "code",
    "id": "zGO4X6SPuBgD",
    "outputId": "958ad52c-b517-4cb9-867a-42167be91e2e"
   },
   "outputs": [
    {
     "data": {
      "text/html": [
       "<div>\n",
       "<style scoped>\n",
       "    .dataframe tbody tr th:only-of-type {\n",
       "        vertical-align: middle;\n",
       "    }\n",
       "\n",
       "    .dataframe tbody tr th {\n",
       "        vertical-align: top;\n",
       "    }\n",
       "\n",
       "    .dataframe thead th {\n",
       "        text-align: right;\n",
       "    }\n",
       "</style>\n",
       "<table border=\"1\" class=\"dataframe\">\n",
       "  <thead>\n",
       "    <tr style=\"text-align: right;\">\n",
       "      <th></th>\n",
       "      <th>Text</th>\n",
       "      <th>Start</th>\n",
       "      <th>cleaned_text</th>\n",
       "      <th>label</th>\n",
       "    </tr>\n",
       "  </thead>\n",
       "  <tbody>\n",
       "    <tr>\n",
       "      <th>0</th>\n",
       "      <td>hi everyone I'm Carrie Daugherty filling</td>\n",
       "      <td>0.530</td>\n",
       "      <td>hi everyone I'm Carrie Daugherty filling</td>\n",
       "      <td>[Carrie Daugherty]</td>\n",
       "    </tr>\n",
       "    <tr>\n",
       "      <th>1</th>\n",
       "      <td>in for Tim cash and this is the IMDB</td>\n",
       "      <td>3.210</td>\n",
       "      <td>in for Tim cash and this is the IMDB</td>\n",
       "      <td>[Tim, IMDB]</td>\n",
       "    </tr>\n",
       "    <tr>\n",
       "      <th>2</th>\n",
       "      <td>show today's guest is my friend Martin</td>\n",
       "      <td>5.370</td>\n",
       "      <td>show today's guest is my friend Martin</td>\n",
       "      <td>[today, Martin]</td>\n",
       "    </tr>\n",
       "    <tr>\n",
       "      <th>3</th>\n",
       "      <td>Starr welcome Martin it's weird when you</td>\n",
       "      <td>7.740</td>\n",
       "      <td>Starr welcome Martin it's weird when you</td>\n",
       "      <td>[Starr, Martin]</td>\n",
       "    </tr>\n",
       "    <tr>\n",
       "      <th>4</th>\n",
       "      <td>clap it sounds like multiple people</td>\n",
       "      <td>12.059</td>\n",
       "      <td>clap it sounds like multiple people</td>\n",
       "      <td>[]</td>\n",
       "    </tr>\n",
       "  </tbody>\n",
       "</table>\n",
       "</div>"
      ],
      "text/plain": [
       "                                       Text   Start  \\\n",
       "0  hi everyone I'm Carrie Daugherty filling   0.530   \n",
       "1      in for Tim cash and this is the IMDB   3.210   \n",
       "2    show today's guest is my friend Martin   5.370   \n",
       "3  Starr welcome Martin it's weird when you   7.740   \n",
       "4       clap it sounds like multiple people  12.059   \n",
       "\n",
       "                               cleaned_text               label  \n",
       "0  hi everyone I'm Carrie Daugherty filling  [Carrie Daugherty]  \n",
       "1      in for Tim cash and this is the IMDB         [Tim, IMDB]  \n",
       "2    show today's guest is my friend Martin     [today, Martin]  \n",
       "3  Starr welcome Martin it's weird when you     [Starr, Martin]  \n",
       "4       clap it sounds like multiple people                  []  "
      ]
     },
     "execution_count": 146,
     "metadata": {},
     "output_type": "execute_result"
    }
   ],
   "source": [
    "l.head()"
   ]
  },
  {
   "cell_type": "code",
   "execution_count": 147,
   "metadata": {
    "colab": {
     "base_uri": "https://localhost:8080/",
     "height": 403
    },
    "colab_type": "code",
    "id": "XvU388dtuGrF",
    "outputId": "06b1f1b7-6e56-49da-8d5e-5ebd0e276238"
   },
   "outputs": [
    {
     "data": {
      "text/plain": [
       "['Carrie Daugherty',\n",
       " 'Tim',\n",
       " 'IMDB',\n",
       " 'today',\n",
       " 'Martin Starr',\n",
       " 'Martin',\n",
       " 'Silicon Valley',\n",
       " 'this week',\n",
       " 'every day',\n",
       " 'Gilfoyle',\n",
       " 'Kumail',\n",
       " 'first',\n",
       " 'Farsi',\n",
       " 'two',\n",
       " 'Dinesh',\n",
       " 'second',\n",
       " 'Apple',\n",
       " '1',\n",
       " 'one',\n",
       " 'John',\n",
       " '10 years',\n",
       " 'a number of years',\n",
       " 'Freaks',\n",
       " 'Geeks',\n",
       " 'Model UN Battle Royale']"
      ]
     },
     "execution_count": 147,
     "metadata": {},
     "output_type": "execute_result"
    }
   ],
   "source": [
    "p.get_unique_ents()"
   ]
  },
  {
   "cell_type": "code",
   "execution_count": 148,
   "metadata": {
    "colab": {
     "base_uri": "https://localhost:8080/",
     "height": 34
    },
    "colab_type": "code",
    "id": "rbhtRN9OuLQq",
    "outputId": "bede1f70-416b-4314-8fae-502ad7cb3fd6"
   },
   "outputs": [
    {
     "data": {
      "text/plain": [
       "25"
      ]
     },
     "execution_count": 148,
     "metadata": {},
     "output_type": "execute_result"
    }
   ],
   "source": [
    "len(p.get_unique_ents())"
   ]
  },
  {
   "cell_type": "code",
   "execution_count": null,
   "metadata": {
    "colab": {},
    "colab_type": "code",
    "id": "2GoSPpMfuOMX"
   },
   "outputs": [],
   "source": []
  }
 ],
 "metadata": {
  "colab": {
   "name": "Untitled59.ipynb",
   "provenance": []
  },
  "kernelspec": {
   "display_name": "Python 3",
   "language": "python",
   "name": "python3"
  },
  "language_info": {
   "codemirror_mode": {
    "name": "ipython",
    "version": 3
   },
   "file_extension": ".py",
   "mimetype": "text/x-python",
   "name": "python",
   "nbconvert_exporter": "python",
   "pygments_lexer": "ipython3",
   "version": "3.7.7"
  }
 },
 "nbformat": 4,
 "nbformat_minor": 1
}
